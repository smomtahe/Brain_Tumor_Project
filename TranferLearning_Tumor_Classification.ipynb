{
  "nbformat": 4,
  "nbformat_minor": 0,
  "metadata": {
    "colab": {
      "provenance": [],
      "gpuType": "T4"
    },
    "kernelspec": {
      "name": "python3",
      "display_name": "Python 3"
    },
    "language_info": {
      "name": "python"
    },
    "accelerator": "GPU"
  },
  "cells": [
    {
      "cell_type": "code",
      "execution_count": 183,
      "metadata": {
        "id": "MTxeWHxxkY20"
      },
      "outputs": [],
      "source": [
        "from pathlib import Path\n",
        "from keras.preprocessing import image\n",
        "import numpy as np\n",
        "from sklearn.model_selection import train_test_split\n",
        "from tensorflow.keras.utils import to_categorical\n",
        "from keras.models import Sequential\n",
        "from keras.layers import Dense, Dropout, Flatten\n",
        "import joblib"
      ]
    },
    {
      "cell_type": "code",
      "source": [
        "# Transfer learning\n",
        "# Build an image recognition system can identify picturs of tumor:\n",
        "# 1- build a feature extractor: extract training features from our images\n",
        "# training data: 1- tumors 2- no tumors  # 64x64 imagenet data\n",
        "# write a code that use the pretrained model to extract features from our training images and save those features to a file"
      ],
      "metadata": {
        "id": "j4NXjVChyZTx"
      },
      "execution_count": 133,
      "outputs": []
    },
    {
      "cell_type": "code",
      "source": [
        "# load data - data has training (tumor,no-tumor) and test (tumor,no-tumor) datasets\n",
        "\n",
        "zip_file_path=(\"/content/MRIBrainTumor.zip\")\n",
        "extracted_dir=(\"/content/extracted_data\")\n",
        "!mkdir -p $extracted_dir\n",
        "with zipfile.ZipFile(zip_file_path,'r') as zip_ref:\n",
        "  zip_ref.extractall(extracted_dir)\n",
        "!ls $extracted_dir"
      ],
      "metadata": {
        "colab": {
          "base_uri": "https://localhost:8080/"
        },
        "id": "J24VGsu_lf5c",
        "outputId": "9c1075cc-7cf2-4936-d1ee-a2b28ffdaa76"
      },
      "execution_count": 3,
      "outputs": [
        {
          "output_type": "stream",
          "name": "stdout",
          "text": [
            "Testing  Training\n"
          ]
        }
      ]
    },
    {
      "cell_type": "code",
      "source": [
        "from pathlib import Path\n",
        "from keras.preprocessing import image\n",
        "import numpy as np\n",
        "\n",
        "# path_to_no_tumor_directory and \"path_to_pituitary_tumor_directory\"\n",
        "no_tumor_path = Path(\"/content/extracted_data/Training/no_tumor\")\n",
        "pituitary_tumor_path = Path(\"/content/extracted_data/Training/pituitary_tumor\")\n",
        "\n",
        "images = []\n",
        "labels = []\n",
        "\n",
        "for img_path in no_tumor_path.glob(\"*jpg\"):\n",
        "    img = image.load_img(img_path, target_size=(224, 224))\n",
        "    img_array = image.img_to_array(img)\n",
        "    images.append(img_array)\n",
        "    labels.append(0)\n",
        "\n",
        "for img_path in pituitary_tumor_path.glob(\"*jpg\"):\n",
        "    img = image.load_img(img_path, target_size=(224, 224))\n",
        "    img_array = image.img_to_array(img)\n",
        "    images.append(img_array)\n",
        "    labels.append(1)\n",
        "\n",
        "xtrain = np.array(images)\n",
        "ytrain = np.array(labels)\n"
      ],
      "metadata": {
        "id": "BqNu-OAHojKn"
      },
      "execution_count": 192,
      "outputs": []
    },
    {
      "cell_type": "code",
      "source": [
        "ytrain.shape #(1222,)\n",
        "xtrain.shape  #(1222, 224, 224, 3)"
      ],
      "metadata": {
        "colab": {
          "base_uri": "https://localhost:8080/"
        },
        "id": "f03yQtT-ywBz",
        "outputId": "a25f8783-dd27-4e6b-ee1f-71100a9e031a"
      },
      "execution_count": 193,
      "outputs": [
        {
          "output_type": "execute_result",
          "data": {
            "text/plain": [
              "(1222, 224, 224, 3)"
            ]
          },
          "metadata": {},
          "execution_count": 193
        }
      ]
    },
    {
      "cell_type": "code",
      "source": [
        "# Train-test split\n",
        "x_train, x_test, y_train, y_test = train_test_split(xtrain, ytrain, random_state=10, test_size=0.2)\n",
        "\n",
        "y_test.shape #(245,)\n",
        "x_test.shape  #(245, 224, 224, 3)\n",
        "x_train.shape  #(977, 224, 224, 3)\n",
        "y_train.shape #(977,)"
      ],
      "metadata": {
        "colab": {
          "base_uri": "https://localhost:8080/"
        },
        "id": "YUcF3jN6o9HG",
        "outputId": "9181c1ac-6dab-4f23-f284-3fad44d97723"
      },
      "execution_count": 194,
      "outputs": [
        {
          "output_type": "execute_result",
          "data": {
            "text/plain": [
              "(977,)"
            ]
          },
          "metadata": {},
          "execution_count": 194
        }
      ]
    },
    {
      "cell_type": "code",
      "source": [
        "# normalize image data to 0-1 range\n",
        "x_train=vgg16.preprocess_input(x_train)\n",
        "\n",
        "# load pretrained nn to useas a feature extractor\n",
        "# create new vgg16 object: pretrained on image net - delete last layer (top) of nn - traing images: size images 64x64: 3 channels\n",
        "pretrained_nn=vgg16.VGG16(weights=\"imagenet\",include_top=False, input_shape=(224,224,3))\n",
        "\n",
        "# feed all trainign images through the nn and capture results: predict function\n",
        "# extract features for each image (all in one pass)\n",
        "# f_x array will now contain the set of features that represent each of the training images in our dataset\n",
        "features_x=pretrained_nn.predict(x_train)\n"
      ],
      "metadata": {
        "colab": {
          "base_uri": "https://localhost:8080/"
        },
        "id": "h65Fp3Q73JoG",
        "outputId": "3ffd5858-2505-4618-ed89-a9e4d1cd04e7"
      },
      "execution_count": 195,
      "outputs": [
        {
          "output_type": "stream",
          "name": "stdout",
          "text": [
            "31/31 [==============================] - 4s 115ms/step\n"
          ]
        }
      ]
    },
    {
      "cell_type": "code",
      "source": [
        "#save the array of extracted features to a file (disc) - dump : writing an array to disc\n",
        "joblib.dump(features_x,\"x_train.dat\")\n",
        "\n",
        "#save the matching array of expecte values to a file\n",
        "joblib.dump(y_train,\"y_train.dat\")\n"
      ],
      "metadata": {
        "colab": {
          "base_uri": "https://localhost:8080/"
        },
        "id": "yPkk1O3-zS7X",
        "outputId": "42858e8e-d4ba-45f2-b9c6-05ac207ada7c"
      },
      "execution_count": 196,
      "outputs": [
        {
          "output_type": "execute_result",
          "data": {
            "text/plain": [
              "['y_train.dat']"
            ]
          },
          "metadata": {},
          "execution_count": 196
        }
      ]
    },
    {
      "cell_type": "code",
      "source": [
        "# Train new Neural Network to use those extracted features\n",
        "from keras.models import Sequential\n",
        "from keras.layers import Dense, Dropout, Flatten\n",
        "from pathlib import Path\n",
        "import joblib\n",
        "\n",
        "#load datasets #load features that we extracted with the pre train vgg 16 nn\n",
        "x_train=joblib.load(\"x_train.dat\")\n",
        "y_train=joblib.load(\"y_train.dat\")\n",
        "\n",
        "model=Sequential()\n",
        "\n",
        "model.add(Flatten(input_shape=x_train.shape[1:]))  # not have cnv layers #has final dense layers\n",
        "model.add(Dense(256, activation=\"relu\"))\n",
        "model.add(Dropout(0.5))\n",
        "model.add(Dense(1,activation=\"sigmoid\"))\n",
        "\n",
        "#compile\n",
        "model.compile(optimizer='adam',loss='categorical_crossentropy',metrics=['accuracy'])\n"
      ],
      "metadata": {
        "id": "KMUtNm0q3tkV"
      },
      "execution_count": 197,
      "outputs": []
    },
    {
      "cell_type": "code",
      "source": [
        "model.fit(x_train,y_train,epochs=3,shuffle=True,validation_split=0.1)\n",
        "\n"
      ],
      "metadata": {
        "colab": {
          "base_uri": "https://localhost:8080/"
        },
        "id": "XSpcNIAS1i1w",
        "outputId": "0dcfcc97-2b71-4566-b21e-91ad21cb8b92"
      },
      "execution_count": 198,
      "outputs": [
        {
          "output_type": "stream",
          "name": "stdout",
          "text": [
            "Epoch 1/3\n",
            "28/28 [==============================] - 1s 14ms/step - loss: 0.0000e+00 - accuracy: 0.3288 - val_loss: 0.0000e+00 - val_accuracy: 0.2857\n",
            "Epoch 2/3\n",
            "28/28 [==============================] - 0s 6ms/step - loss: 0.0000e+00 - accuracy: 0.3254 - val_loss: 0.0000e+00 - val_accuracy: 0.2857\n",
            "Epoch 3/3\n",
            "28/28 [==============================] - 0s 7ms/step - loss: 0.0000e+00 - accuracy: 0.3254 - val_loss: 0.0000e+00 - val_accuracy: 0.2857\n"
          ]
        },
        {
          "output_type": "execute_result",
          "data": {
            "text/plain": [
              "<keras.src.callbacks.History at 0x7eb794d86bc0>"
            ]
          },
          "metadata": {},
          "execution_count": 198
        }
      ]
    },
    {
      "cell_type": "code",
      "source": [
        "model_structure=model.to_json()\n",
        "f=Path(\"model_structure.json\")\n",
        "f.write_text(model_structure)\n",
        "model.save_weights(\"model.weights.h5\")"
      ],
      "metadata": {
        "id": "tPAdUbnW1pf5"
      },
      "execution_count": 199,
      "outputs": []
    },
    {
      "cell_type": "code",
      "source": [
        "# Prediction\n",
        "class_labels=[\"tumor\",\"no tumor\"]\n",
        "f=Path(\"model_structure.json\")\n",
        "model_structure=f.read_text()\n",
        "model=model_from_json(model_structure)\n",
        "model.load_weights(\"model.weights.h5\")\n",
        "\n",
        "img=image.load_img(\"/content/brain.jpg\", target_size=(224,224))\n",
        "# 3D numpy array -> nn\n",
        "image_array=image.img_to_array(img)"
      ],
      "metadata": {
        "id": "CfuJ7Zyu1qTM"
      },
      "execution_count": 214,
      "outputs": []
    },
    {
      "cell_type": "code",
      "source": [
        "# batch of images as once- creare batches even 1 img\n",
        "# batches as 4D array  1: list of images,  3:imae data\n",
        "# 4D add new axis to it with numpy: np.expand_dims()\n",
        "images=np.expand_dims(image_array,axis=0) #axis=0 :new axis is the 1st dimension\n",
        "\n",
        "# normalize\n",
        "images=vgg16.preprocess_input(images)\n",
        "\n",
        "# use pretrained nn to extract features from our test img\n",
        "feature_extraction_model=vgg16.VGG16(weights=\"imagenet\",include_top=False,  input_shape=(224,224,3))\n",
        "features=feature_extraction_model.predict(images)\n",
        "\n",
        "#given the extracted features , make a final prediction using our own nn model\n",
        "results=model.predict(features)\n",
        "\n",
        "# since we are only testing 1 img with possible classs, we need to check only the 1st result\n",
        "single_result=results[0][0]\n",
        "\n",
        "print(\"Likelihood that this image contains a tumor: {}%\".format(int(single_result*100)))\n",
        "# 0% means it is not a tumor\n",
        "\n"
      ],
      "metadata": {
        "colab": {
          "base_uri": "https://localhost:8080/"
        },
        "id": "plUgn2a71qtw",
        "outputId": "05b9dbe9-f35c-4862-8424-458b7740837f"
      },
      "execution_count": 216,
      "outputs": [
        {
          "output_type": "stream",
          "name": "stdout",
          "text": [
            "1/1 [==============================] - 0s 134ms/step\n",
            "1/1 [==============================] - 0s 27ms/step\n",
            "Likelihood that this image contains a tumor: 0%\n"
          ]
        }
      ]
    },
    {
      "cell_type": "code",
      "source": [],
      "metadata": {
        "id": "E3SsexBc4HKr"
      },
      "execution_count": null,
      "outputs": []
    },
    {
      "cell_type": "code",
      "source": [],
      "metadata": {
        "id": "J7_zpPXq3gN2"
      },
      "execution_count": null,
      "outputs": []
    }
  ]
}